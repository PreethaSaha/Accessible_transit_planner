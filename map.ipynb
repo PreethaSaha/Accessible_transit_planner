{
 "cells": [
  {
   "cell_type": "code",
   "execution_count": null,
   "metadata": {},
   "outputs": [],
   "source": [
    "import pandas as pd\n",
    "import folium\n",
    "from folium import plugins\n",
    "import matplotlib.pyplot as plt\n",
    "\n",
    "# Load the unique stations CSV\n",
    "df = pd.read_csv('accessible_unique_CTA_L_stations_by_color.csv')\n",
    "\n",
    "# Define color map for known CTA lines (customize if needed)\n",
    "cta_colors = {\n",
    "    'Red Line': 'red',\n",
    "    'Blue Line': 'blue',\n",
    "    'Green Line': 'green',\n",
    "    'Brown Line': 'saddlebrown',\n",
    "    'Purple Line': 'purple',\n",
    "    'Pink Line': 'deeppink',\n",
    "    'Orange Line': 'orange',\n",
    "    'Yellow Line': 'gold'\n",
    "}\n",
    "\n",
    "# Center the map roughly on Chicago\n",
    "m = folium.Map(location=[41.8781, -87.6298], zoom_start=11, tiles='cartodbpositron')\n",
    "\n",
    "# Group and plot\n",
    "for route, group in df.groupby('route_long_name'):\n",
    "    color = cta_colors.get(route, 'gray')\n",
    "    \n",
    "    # Sort stations roughly north-to-south or west-to-east (can be improved)\n",
    "    group = group.sort_values(by=['stop_lat', 'stop_lon'], ascending=[False, True])\n",
    "    \n",
    "    # Draw polyline connecting stations in order\n",
    "    points = list(zip(group['stop_lat'], group['stop_lon']))\n",
    "    folium.PolyLine(points, color=color, weight=4, opacity=0.6, tooltip=route).add_to(m)\n",
    "    \n",
    "    # Add station markers\n",
    "    for _, row in group.iterrows():\n",
    "        folium.CircleMarker(\n",
    "            location=[row['stop_lat'], row['stop_lon']],\n",
    "            radius=4,\n",
    "            color=color,\n",
    "            fill=True,\n",
    "            fill_opacity=0.7,\n",
    "            popup=f\"{row['stop_name']} ({route})\"\n",
    "        ).add_to(m)\n",
    "\n",
    "# Display map inline (for Jupyter-like environments)\n",
    "m\n"
   ]
  }
 ],
 "metadata": {
  "language_info": {
   "name": "python"
  }
 },
 "nbformat": 4,
 "nbformat_minor": 2
}
